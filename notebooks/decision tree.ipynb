{
 "cells": [
  {
   "cell_type": "code",
   "outputs": [],
   "source": [
    "import random\n",
    "import os\n",
    "\n",
    "import neat\n",
    "from neat import DistributedEvaluator, ParallelEvaluator\n",
    "from tqdm.notebook import tqdm, trange\n",
    "from pathlib import Path\n",
    "from random import randint\n",
    "from ui.python.Layout import Layout\n",
    "import numpy as np\n",
    "\n",
    "from helpers.estimation_helpers import *\n",
    "import helpers.visualize as visualize\n",
    "\n",
    "import pandas as pd"
   ],
   "metadata": {
    "collapsed": false,
    "ExecuteTime": {
     "end_time": "2024-04-19T16:50:09.669730800Z",
     "start_time": "2024-04-19T16:50:08.784612700Z"
    }
   },
   "id": "4f889f2d82463d94",
   "execution_count": 1
  },
  {
   "cell_type": "code",
   "outputs": [],
   "source": [
    "MAX_WORKERS = 10\n",
    "SLICE_SIZE = 400\n",
    "EPOCHS = 100\n",
    "SCORE_COEFFICIENTS = (500, 350, 150)\n",
    "layout = Layout('./../data/layouts/genetic/step1-max/layout_4_racks.json').reset_item_count().reset_path_count()\n",
    "item_list = None\n",
    "check_list = None\n",
    "check_ids = None\n",
    "df = None\n",
    "best = None\n",
    "str_item = None\n",
    "selected_categories = [\n",
    " 'bakery',\n",
    " 'beverages',\n",
    " 'breakfast',\n",
    " 'canned goods',\n",
    " 'dairy eggs',\n",
    " 'deli',\n",
    " 'dry goods pasta',\n",
    " 'frozen',\n",
    " 'household',\n",
    " 'meat seafood',\n",
    " 'pantry',\n",
    " 'produce',\n",
    " 'snacks']"
   ],
   "metadata": {
    "collapsed": false,
    "ExecuteTime": {
     "end_time": "2024-04-19T16:50:09.735725800Z",
     "start_time": "2024-04-19T16:50:09.671748800Z"
    }
   },
   "id": "4e736ea276fce4e0",
   "execution_count": 2
  },
  {
   "cell_type": "code",
   "outputs": [],
   "source": [
    "check_config = {\n",
    "    1: 15,\n",
    "    2: 25,\n",
    "    3: 30,\n",
    "    4: 30,\n",
    "    5: 35,\n",
    "    6: 30,\n",
    "    7: 25,\n",
    "}"
   ],
   "metadata": {
    "collapsed": false,
    "ExecuteTime": {
     "end_time": "2024-04-19T16:50:09.749726400Z",
     "start_time": "2024-04-19T16:50:09.738727700Z"
    }
   },
   "id": "da8b4cf7938035a8",
   "execution_count": 3
  },
  {
   "cell_type": "code",
   "outputs": [],
   "source": [
    "def get_order_items(order_id):\n",
    "    return order_id, list(map(str, df[df['order_id'] == order_id]['product_id'].tolist()))\n",
    "\n",
    "def create_input_for_genome(layout, i, j, level):\n",
    "    def tile_enum_to_int(tile):\n",
    "        if tile.type.value == 'wall':\n",
    "            return 0\n",
    "        if tile.type.value == 'floor':\n",
    "            return 1\n",
    "        if tile.type.value == 'rack':\n",
    "            return 2\n",
    "        if tile.type.value == 'door':\n",
    "            return 3\n",
    "        if tile.type.value == 'cashier':\n",
    "            return 4\n",
    "        return 0\n",
    "\n",
    "    def convert_items_to_int(items):\n",
    "        ids = []\n",
    "        if len(items) == 0:\n",
    "            return [(-1, -1), (-1, -1), (-1, -1), (-1, -1)]\n",
    "        for item in items:\n",
    "            if item[0] == '':\n",
    "                ids.append((-1, 0))\n",
    "            else:\n",
    "                ids.append((int(item[0]), int(item[1])))\n",
    "        return ids\n",
    "\n",
    "    tile_info = get_tile_info(layout, i, j)\n",
    "    if tile_info is None:\n",
    "        return None\n",
    "\n",
    "    left_products = convert_items_to_int(tile_info['left_products'])\n",
    "    right_products = convert_items_to_int(tile_info['right_products'])\n",
    "\n",
    "    return [\n",
    "        level,\n",
    "        tile_info['dist_to_cashier'],\n",
    "        tile_info['dist_to_exit'],\n",
    "        tile_info['orientation'][0],\n",
    "        tile_info['orientation'][1],\n",
    "        left_products[0][0],\n",
    "        left_products[0][1],\n",
    "        left_products[1][0],\n",
    "        left_products[1][1],\n",
    "        left_products[2][0],\n",
    "        left_products[2][1],\n",
    "        left_products[3][0],\n",
    "        left_products[3][1],\n",
    "        right_products[0][0],\n",
    "        right_products[0][1],\n",
    "        right_products[1][0],\n",
    "        right_products[1][1],\n",
    "        right_products[2][0],\n",
    "        right_products[2][1],\n",
    "        right_products[3][0],\n",
    "        right_products[3][1],\n",
    "        tile_enum_to_int(layout[i - 1][j]),\n",
    "        tile_enum_to_int(layout[i + 1][j]),\n",
    "        tile_enum_to_int(layout[i][j - 1]),\n",
    "        tile_enum_to_int(layout[i][j + 1]),\n",
    "        tile_enum_to_int(layout[i - 1][j - 1]),\n",
    "        tile_enum_to_int(layout[i + 1][j + 1]),\n",
    "        tile_enum_to_int(layout[i - 1][j + 1]),\n",
    "        tile_enum_to_int(layout[i + 1][j - 1]),\n",
    "    ]\n"
   ],
   "metadata": {
    "collapsed": false,
    "ExecuteTime": {
     "end_time": "2024-04-19T16:50:09.769726200Z",
     "start_time": "2024-04-19T16:50:09.746726600Z"
    }
   },
   "id": "520cfdc9642824ec",
   "execution_count": 4
  },
  {
   "cell_type": "code",
   "outputs": [
    {
     "data": {
      "text/plain": "  0%|          | 0/10000 [00:00<?, ?it/s]",
      "application/vnd.jupyter.widget-view+json": {
       "version_major": 2,
       "version_minor": 0,
       "model_id": "1fee483b6a714914a47d161a5be3e57d"
      }
     },
     "metadata": {},
     "output_type": "display_data"
    },
    {
     "data": {
      "text/plain": "  0%|          | 0/7 [00:00<?, ?it/s]",
      "application/vnd.jupyter.widget-view+json": {
       "version_major": 2,
       "version_minor": 0,
       "model_id": "b6e49209c556496b8e47bb803c2cdf30"
      }
     },
     "metadata": {},
     "output_type": "display_data"
    }
   ],
   "source": [
    "df = pd.read_csv('./../data/datasets/ECommerce_consumer behaviour.csv')\n",
    "df = df[['order_id', 'user_id', 'order_number', 'department', 'product_id', 'product_name']]\n",
    "check_list = []\n",
    "\n",
    "df = df[df['department'].isin(selected_categories)]\n",
    "\n",
    "\n",
    "def get_order_items(order_id):\n",
    "    order = df[df['order_id'] == order_id]\n",
    "    is_in_category = order['department'].apply(lambda x: x in selected_categories)\n",
    "    return order_id, order[is_in_category]['product_name'].unique().tolist()\\\n",
    "\n",
    "# Create check list\n",
    "check_ids = df['order_id'].unique().tolist()\n",
    "check_list = []\n",
    "for check_id in tqdm(check_ids[:10000]):\n",
    "    check = get_order_items(check_id)\n",
    "    check_list.append(check)\n",
    "\n",
    "def get_checks_of_specific_length(check_list, length):\n",
    "    return [x for x in check_list if len(x[1]) == length]\n",
    "\n",
    "def get_checks_of_specific_length_range(check_list, range_dict):\n",
    "    # range dict: length - n_of_checks\n",
    "    res = []\n",
    "    for key in tqdm(range_dict.keys()):\n",
    "        res += get_checks_of_specific_length(check_list, key)[:range_dict[key]]\n",
    "    return res\n",
    "\n",
    "tuned_checks = get_checks_of_specific_length_range(check_list, check_config)\n",
    "\n",
    "# convert tuned checks item names to item ids\n",
    "check_list = []\n",
    "name_id_df = df[['product_name', 'product_id']].drop_duplicates()\n",
    "# ids are not sequential numbers, so we need to map them to sequential numbers\n",
    "name_id_df['product_id_norm'] = range(1, len(name_id_df) + 1)\n",
    "for check in tuned_checks:\n",
    "    check_list.append((check[0], [str(name_id_df[name_id_df['product_name'] == x]['product_id_norm'].values[0]) for x in check[1]]))\n",
    "\n",
    "#convert layout items to item ids\n",
    "str_items = name_id_df['product_id_norm'].unique().tolist()\n",
    "str_items = [str(x) for x in str_items]\n",
    "layout.set_item_list(str_items, reset_items=False)\n",
    "for i in range(layout.shape[0]):\n",
    "    for j in range(layout.shape[1]):\n",
    "        if layout[i][j].type.name == 'RACK':\n",
    "            items = layout[i][j].items\n",
    "            for level in range(layout.get_max_rack_level()):\n",
    "                item = items[level]\n",
    "                new_item = name_id_df[name_id_df['product_name'] == item[0]]['product_id_norm'].values[0]\n",
    "                layout.set_item_to_rack(str(new_item), (i, j), level=level)\n",
    "\n",
    "best = None"
   ],
   "metadata": {
    "collapsed": false,
    "ExecuteTime": {
     "end_time": "2024-04-19T16:50:34.769487800Z",
     "start_time": "2024-04-19T16:50:09.756725800Z"
    }
   },
   "id": "8d1ea4bc0a52b21d",
   "execution_count": 5
  },
  {
   "cell_type": "markdown",
   "source": [
    "# Data preparation"
   ],
   "metadata": {
    "collapsed": false
   },
   "id": "cd536f56532aab64"
  },
  {
   "cell_type": "markdown",
   "source": [
    "idea - take a layout, generate all possible changes for every rack, evaluate them and feed it to decision tree: state-action as X, reward diff as Y"
   ],
   "metadata": {
    "collapsed": false
   },
   "id": "d840887ae8fa6738"
  },
  {
   "cell_type": "code",
   "outputs": [],
   "source": [
    "data = {\n",
    "    \"state\": [],\n",
    "    \"action\": [],\n",
    "    \"reward\": [], \n",
    "    \"info\": []\n",
    "}"
   ],
   "metadata": {
    "collapsed": false,
    "ExecuteTime": {
     "end_time": "2024-04-19T17:10:35.987691600Z",
     "start_time": "2024-04-19T17:10:35.961694100Z"
    }
   },
   "id": "10b64a1dc278aa7c",
   "execution_count": 11
  },
  {
   "cell_type": "code",
   "outputs": [],
   "source": [
    "curr_info, _ = thread_func(layout, check_list)\n",
    "current_reward = calculate_score(curr_info, layout, check_list, SCORE_COEFFICIENTS)"
   ],
   "metadata": {
    "collapsed": false,
    "ExecuteTime": {
     "end_time": "2024-04-19T17:10:36.184692100Z",
     "start_time": "2024-04-19T17:10:36.000692200Z"
    }
   },
   "id": "d74e5a55a6fb3a24",
   "execution_count": 12
  },
  {
   "cell_type": "code",
   "outputs": [
    {
     "data": {
      "text/plain": "<ui.python.Layout.Layout at 0x7f1d2399f0d0>"
     },
     "execution_count": 13,
     "metadata": {},
     "output_type": "execute_result"
    }
   ],
   "source": [
    "layout.reset_item_count()\n",
    "layout.reset_path_count()"
   ],
   "metadata": {
    "collapsed": false,
    "ExecuteTime": {
     "end_time": "2024-04-19T17:10:36.196692Z",
     "start_time": "2024-04-19T17:10:36.188692400Z"
    }
   },
   "id": "89da390d5ef80ac9",
   "execution_count": 13
  },
  {
   "cell_type": "code",
   "outputs": [
    {
     "data": {
      "text/plain": "  0%|          | 0/18 [00:00<?, ?it/s]",
      "application/vnd.jupyter.widget-view+json": {
       "version_major": 2,
       "version_minor": 0,
       "model_id": "cc3faf2aada5495d9198ae3a4add46a0"
      }
     },
     "metadata": {},
     "output_type": "display_data"
    },
    {
     "data": {
      "text/plain": "  0%|          | 0/25 [00:00<?, ?it/s]",
      "application/vnd.jupyter.widget-view+json": {
       "version_major": 2,
       "version_minor": 0,
       "model_id": "a4f3b075bd26453bb99f5a6167edc2fc"
      }
     },
     "metadata": {},
     "output_type": "display_data"
    },
    {
     "data": {
      "text/plain": "  0%|          | 0/25 [00:00<?, ?it/s]",
      "application/vnd.jupyter.widget-view+json": {
       "version_major": 2,
       "version_minor": 0,
       "model_id": "26bd1c5f2fe2438fa7997d543f5a0a7f"
      }
     },
     "metadata": {},
     "output_type": "display_data"
    },
    {
     "data": {
      "text/plain": "  0%|          | 0/25 [00:00<?, ?it/s]",
      "application/vnd.jupyter.widget-view+json": {
       "version_major": 2,
       "version_minor": 0,
       "model_id": "1c5914598ef04ec78275179df0d73c0c"
      }
     },
     "metadata": {},
     "output_type": "display_data"
    },
    {
     "data": {
      "text/plain": "  0%|          | 0/25 [00:00<?, ?it/s]",
      "application/vnd.jupyter.widget-view+json": {
       "version_major": 2,
       "version_minor": 0,
       "model_id": "a6ed6b6799514b3aa84e8b564902f99e"
      }
     },
     "metadata": {},
     "output_type": "display_data"
    },
    {
     "data": {
      "text/plain": "  0%|          | 0/25 [00:00<?, ?it/s]",
      "application/vnd.jupyter.widget-view+json": {
       "version_major": 2,
       "version_minor": 0,
       "model_id": "09cc81fb85b74e22816f0d6809b7ac30"
      }
     },
     "metadata": {},
     "output_type": "display_data"
    },
    {
     "data": {
      "text/plain": "  0%|          | 0/25 [00:00<?, ?it/s]",
      "application/vnd.jupyter.widget-view+json": {
       "version_major": 2,
       "version_minor": 0,
       "model_id": "d2b15600cfd548e5a46217febe735b71"
      }
     },
     "metadata": {},
     "output_type": "display_data"
    },
    {
     "data": {
      "text/plain": "  0%|          | 0/25 [00:00<?, ?it/s]",
      "application/vnd.jupyter.widget-view+json": {
       "version_major": 2,
       "version_minor": 0,
       "model_id": "11c9aed3747943ef91e0660ceb9eca02"
      }
     },
     "metadata": {},
     "output_type": "display_data"
    },
    {
     "data": {
      "text/plain": "  0%|          | 0/25 [00:00<?, ?it/s]",
      "application/vnd.jupyter.widget-view+json": {
       "version_major": 2,
       "version_minor": 0,
       "model_id": "79013674d58b4d41a1fe732b55f366dd"
      }
     },
     "metadata": {},
     "output_type": "display_data"
    },
    {
     "data": {
      "text/plain": "  0%|          | 0/25 [00:00<?, ?it/s]",
      "application/vnd.jupyter.widget-view+json": {
       "version_major": 2,
       "version_minor": 0,
       "model_id": "ea0b208c241c4389b53156ecbefa6c0b"
      }
     },
     "metadata": {},
     "output_type": "display_data"
    },
    {
     "data": {
      "text/plain": "  0%|          | 0/25 [00:00<?, ?it/s]",
      "application/vnd.jupyter.widget-view+json": {
       "version_major": 2,
       "version_minor": 0,
       "model_id": "e34cbb0da23e494bbf4331fda96cbb00"
      }
     },
     "metadata": {},
     "output_type": "display_data"
    },
    {
     "data": {
      "text/plain": "  0%|          | 0/25 [00:00<?, ?it/s]",
      "application/vnd.jupyter.widget-view+json": {
       "version_major": 2,
       "version_minor": 0,
       "model_id": "a1887a4bfc684d69b2a68179370c693f"
      }
     },
     "metadata": {},
     "output_type": "display_data"
    },
    {
     "data": {
      "text/plain": "  0%|          | 0/25 [00:00<?, ?it/s]",
      "application/vnd.jupyter.widget-view+json": {
       "version_major": 2,
       "version_minor": 0,
       "model_id": "d0b5a465069d4bc4ac3f994dc0862e1f"
      }
     },
     "metadata": {},
     "output_type": "display_data"
    },
    {
     "data": {
      "text/plain": "  0%|          | 0/25 [00:00<?, ?it/s]",
      "application/vnd.jupyter.widget-view+json": {
       "version_major": 2,
       "version_minor": 0,
       "model_id": "a493d76f56c64d77ab80a0b0c21eee39"
      }
     },
     "metadata": {},
     "output_type": "display_data"
    },
    {
     "data": {
      "text/plain": "  0%|          | 0/25 [00:00<?, ?it/s]",
      "application/vnd.jupyter.widget-view+json": {
       "version_major": 2,
       "version_minor": 0,
       "model_id": "9ed88889e419401aad0dc2092da39b73"
      }
     },
     "metadata": {},
     "output_type": "display_data"
    },
    {
     "data": {
      "text/plain": "  0%|          | 0/25 [00:00<?, ?it/s]",
      "application/vnd.jupyter.widget-view+json": {
       "version_major": 2,
       "version_minor": 0,
       "model_id": "78a0ac7ecafb4be9b7a9137016b0a575"
      }
     },
     "metadata": {},
     "output_type": "display_data"
    },
    {
     "data": {
      "text/plain": "  0%|          | 0/25 [00:00<?, ?it/s]",
      "application/vnd.jupyter.widget-view+json": {
       "version_major": 2,
       "version_minor": 0,
       "model_id": "a35550e069f54f4ea78b33bc012843c3"
      }
     },
     "metadata": {},
     "output_type": "display_data"
    },
    {
     "data": {
      "text/plain": "  0%|          | 0/25 [00:00<?, ?it/s]",
      "application/vnd.jupyter.widget-view+json": {
       "version_major": 2,
       "version_minor": 0,
       "model_id": "8cff7568478e40aeac1bce80f210d774"
      }
     },
     "metadata": {},
     "output_type": "display_data"
    },
    {
     "data": {
      "text/plain": "  0%|          | 0/25 [00:00<?, ?it/s]",
      "application/vnd.jupyter.widget-view+json": {
       "version_major": 2,
       "version_minor": 0,
       "model_id": "b74b1b02712f4c019ba7f3a0c795db02"
      }
     },
     "metadata": {},
     "output_type": "display_data"
    }
   ],
   "source": [
    "from concurrent.futures import ProcessPoolExecutor\n",
    "\n",
    "for i in trange(layout.shape[0]):\n",
    "    for j in trange(layout.shape[1]):\n",
    "        if layout[i][j].type.name == 'RACK':\n",
    "            for level in range(layout.get_max_rack_level()):\n",
    "                input_data = create_input_for_genome(layout, i, j, level)\n",
    "                if input_data is None:\n",
    "                    continue\n",
    "                data['state'].append(input_data)\n",
    "                futures = []\n",
    "                with ProcessPoolExecutor(max_workers=MAX_WORKERS) as executor:\n",
    "                    for item in str_items:\n",
    "                        l = layout.copy()\n",
    "                        l.set_item_to_rack(item, (i, j), level=level)\n",
    "                        futures.append(executor.submit(thread_func, l, check_list))\n",
    "                    for future in futures:\n",
    "                        new_info, _ = future.result()\n",
    "                        new_reward = calculate_score(new_info, l, check_list, SCORE_COEFFICIENTS)\n",
    "                        data['action'].append(item)\n",
    "                        data['reward'].append(new_reward - current_reward)\n",
    "                        data['info'].append(new_info)"
   ],
   "metadata": {
    "collapsed": false,
    "ExecuteTime": {
     "end_time": "2024-04-19T17:54:49.274567800Z",
     "start_time": "2024-04-19T17:10:36.201692200Z"
    }
   },
   "id": "708a03561b182789",
   "execution_count": 14
  },
  {
   "cell_type": "code",
   "outputs": [
    {
     "name": "stdout",
     "output_type": "stream",
     "text": [
      "state 568\n",
      "action 55664\n",
      "reward 55664\n",
      "info 55664\n"
     ]
    }
   ],
   "source": [
    "for k in data.keys():\n",
    "    print(k, len(data[k]))"
   ],
   "metadata": {
    "collapsed": false,
    "ExecuteTime": {
     "end_time": "2024-04-19T18:30:49.119187Z",
     "start_time": "2024-04-19T18:30:49.111181300Z"
    }
   },
   "id": "72e454fc6fab74a5",
   "execution_count": 19
  },
  {
   "cell_type": "code",
   "outputs": [],
   "source": [
    "# save data to file\n",
    "import pickle\n",
    "with open('./../data/datasets/data.pkl', 'wb') as f:\n",
    "    pickle.dump(data, f)"
   ],
   "metadata": {
    "collapsed": false,
    "ExecuteTime": {
     "end_time": "2024-04-19T18:31:16.676078100Z",
     "start_time": "2024-04-19T18:31:16.462776Z"
    }
   },
   "id": "10cbcfa496fabdb7",
   "execution_count": 20
  },
  {
   "cell_type": "code",
   "outputs": [],
   "source": [
    "# load data from file\n",
    "with open('./../data/datasets/data.pkl', 'rb') as f:\n",
    "    data = pickle.load(f)"
   ],
   "metadata": {
    "collapsed": false,
    "ExecuteTime": {
     "end_time": "2024-04-19T18:31:31.453045500Z",
     "start_time": "2024-04-19T18:31:31.111450800Z"
    }
   },
   "id": "19e140abd644f69b",
   "execution_count": 21
  },
  {
   "cell_type": "code",
   "outputs": [
    {
     "data": {
      "text/plain": "[3,\n 18,\n 28,\n 1,\n 0,\n -1,\n -1,\n -1,\n -1,\n -1,\n -1,\n -1,\n -1,\n 42,\n 10,\n 19,\n 10,\n 19,\n 10,\n 19,\n 10,\n 0,\n 1,\n 0,\n 2,\n 0,\n 1,\n 0,\n 2]"
     },
     "execution_count": 30,
     "metadata": {},
     "output_type": "execute_result"
    }
   ],
   "source": [
    "# create dataframe\n"
   ],
   "metadata": {
    "collapsed": false,
    "ExecuteTime": {
     "end_time": "2024-04-19T18:35:35.039543400Z",
     "start_time": "2024-04-19T18:35:34.981538700Z"
    }
   },
   "id": "cc50d20a39016e0",
   "execution_count": 30
  }
 ],
 "metadata": {
  "kernelspec": {
   "display_name": "Python 3",
   "language": "python",
   "name": "python3"
  },
  "language_info": {
   "codemirror_mode": {
    "name": "ipython",
    "version": 2
   },
   "file_extension": ".py",
   "mimetype": "text/x-python",
   "name": "python",
   "nbconvert_exporter": "python",
   "pygments_lexer": "ipython2",
   "version": "2.7.6"
  }
 },
 "nbformat": 4,
 "nbformat_minor": 5
}
