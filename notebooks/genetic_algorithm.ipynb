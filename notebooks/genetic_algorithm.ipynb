{
 "cells": [
  {
   "cell_type": "code",
   "execution_count": 1,
   "metadata": {
    "collapsed": true,
    "ExecuteTime": {
     "end_time": "2024-02-01T18:47:29.672687100Z",
     "start_time": "2024-02-01T18:47:29.079039900Z"
    }
   },
   "outputs": [],
   "source": [
    "import random\n",
    "import os\n",
    "import threading\n",
    "from concurrent.futures import ThreadPoolExecutor, ProcessPoolExecutor, wait\n",
    "\n",
    "from tqdm.notebook import tqdm, trange\n",
    "from pathlib import Path\n",
    "from random import randint\n",
    "from ui.python.Layout import Layout\n",
    "import numpy as np"
   ]
  },
  {
   "cell_type": "code",
   "execution_count": 2,
   "outputs": [],
   "source": [
    "import pandas as pd"
   ],
   "metadata": {
    "collapsed": false,
    "ExecuteTime": {
     "end_time": "2024-02-01T18:47:30.135686600Z",
     "start_time": "2024-02-01T18:47:29.673688300Z"
    }
   }
  },
  {
   "cell_type": "code",
   "outputs": [],
   "source": [
    "MAX_WORKERS = 24"
   ],
   "metadata": {
    "collapsed": false,
    "ExecuteTime": {
     "end_time": "2024-02-01T18:47:30.147689400Z",
     "start_time": "2024-02-01T18:47:30.139689Z"
    }
   },
   "execution_count": 3
  },
  {
   "cell_type": "markdown",
   "source": [
    "# Preprocessing"
   ],
   "metadata": {
    "collapsed": false
   }
  },
  {
   "cell_type": "code",
   "execution_count": 4,
   "outputs": [
    {
     "data": {
      "text/plain": "         order_id  user_id  order_number  order_dow  order_hour_of_day  \\\n0         2425083    49125             1          2                 18   \n1         2425083    49125             1          2                 18   \n2         2425083    49125             1          2                 18   \n3         2425083    49125             1          2                 18   \n4         2425083    49125             1          2                 18   \n...           ...      ...           ...        ...                ...   \n2019496   3390742   199430            16          3                 18   \n2019497    458285   128787            42          2                 19   \n2019498    458285   128787            42          2                 19   \n2019499    458285   128787            42          2                 19   \n2019500    458285   128787            42          2                 19   \n\n         days_since_prior_order  product_id  add_to_cart_order  reordered  \\\n0                           NaN          17                  1          0   \n1                           NaN          91                  2          0   \n2                           NaN          36                  3          0   \n3                           NaN          83                  4          0   \n4                           NaN          83                  5          0   \n...                         ...         ...                ...        ...   \n2019496                     5.0          83                  8          0   \n2019497                     3.0         115                  1          1   \n2019498                     3.0          32                  2          1   \n2019499                     3.0          32                  3          1   \n2019500                     3.0         123                  4          1   \n\n         department_id  department                   product_name  \n0                   13      pantry             baking ingredients  \n1                   16  dairy eggs                soy lactosefree  \n2                   16  dairy eggs                         butter  \n3                    4     produce               fresh vegetables  \n4                    4     produce               fresh vegetables  \n...                ...         ...                            ...  \n2019496              4     produce               fresh vegetables  \n2019497              7   beverages  water seltzer sparkling water  \n2019498              4     produce               packaged produce  \n2019499              4     produce               packaged produce  \n2019500              4     produce     packaged vegetables fruits  \n\n[2019501 rows x 12 columns]",
      "text/html": "<div>\n<style scoped>\n    .dataframe tbody tr th:only-of-type {\n        vertical-align: middle;\n    }\n\n    .dataframe tbody tr th {\n        vertical-align: top;\n    }\n\n    .dataframe thead th {\n        text-align: right;\n    }\n</style>\n<table border=\"1\" class=\"dataframe\">\n  <thead>\n    <tr style=\"text-align: right;\">\n      <th></th>\n      <th>order_id</th>\n      <th>user_id</th>\n      <th>order_number</th>\n      <th>order_dow</th>\n      <th>order_hour_of_day</th>\n      <th>days_since_prior_order</th>\n      <th>product_id</th>\n      <th>add_to_cart_order</th>\n      <th>reordered</th>\n      <th>department_id</th>\n      <th>department</th>\n      <th>product_name</th>\n    </tr>\n  </thead>\n  <tbody>\n    <tr>\n      <th>0</th>\n      <td>2425083</td>\n      <td>49125</td>\n      <td>1</td>\n      <td>2</td>\n      <td>18</td>\n      <td>NaN</td>\n      <td>17</td>\n      <td>1</td>\n      <td>0</td>\n      <td>13</td>\n      <td>pantry</td>\n      <td>baking ingredients</td>\n    </tr>\n    <tr>\n      <th>1</th>\n      <td>2425083</td>\n      <td>49125</td>\n      <td>1</td>\n      <td>2</td>\n      <td>18</td>\n      <td>NaN</td>\n      <td>91</td>\n      <td>2</td>\n      <td>0</td>\n      <td>16</td>\n      <td>dairy eggs</td>\n      <td>soy lactosefree</td>\n    </tr>\n    <tr>\n      <th>2</th>\n      <td>2425083</td>\n      <td>49125</td>\n      <td>1</td>\n      <td>2</td>\n      <td>18</td>\n      <td>NaN</td>\n      <td>36</td>\n      <td>3</td>\n      <td>0</td>\n      <td>16</td>\n      <td>dairy eggs</td>\n      <td>butter</td>\n    </tr>\n    <tr>\n      <th>3</th>\n      <td>2425083</td>\n      <td>49125</td>\n      <td>1</td>\n      <td>2</td>\n      <td>18</td>\n      <td>NaN</td>\n      <td>83</td>\n      <td>4</td>\n      <td>0</td>\n      <td>4</td>\n      <td>produce</td>\n      <td>fresh vegetables</td>\n    </tr>\n    <tr>\n      <th>4</th>\n      <td>2425083</td>\n      <td>49125</td>\n      <td>1</td>\n      <td>2</td>\n      <td>18</td>\n      <td>NaN</td>\n      <td>83</td>\n      <td>5</td>\n      <td>0</td>\n      <td>4</td>\n      <td>produce</td>\n      <td>fresh vegetables</td>\n    </tr>\n    <tr>\n      <th>...</th>\n      <td>...</td>\n      <td>...</td>\n      <td>...</td>\n      <td>...</td>\n      <td>...</td>\n      <td>...</td>\n      <td>...</td>\n      <td>...</td>\n      <td>...</td>\n      <td>...</td>\n      <td>...</td>\n      <td>...</td>\n    </tr>\n    <tr>\n      <th>2019496</th>\n      <td>3390742</td>\n      <td>199430</td>\n      <td>16</td>\n      <td>3</td>\n      <td>18</td>\n      <td>5.0</td>\n      <td>83</td>\n      <td>8</td>\n      <td>0</td>\n      <td>4</td>\n      <td>produce</td>\n      <td>fresh vegetables</td>\n    </tr>\n    <tr>\n      <th>2019497</th>\n      <td>458285</td>\n      <td>128787</td>\n      <td>42</td>\n      <td>2</td>\n      <td>19</td>\n      <td>3.0</td>\n      <td>115</td>\n      <td>1</td>\n      <td>1</td>\n      <td>7</td>\n      <td>beverages</td>\n      <td>water seltzer sparkling water</td>\n    </tr>\n    <tr>\n      <th>2019498</th>\n      <td>458285</td>\n      <td>128787</td>\n      <td>42</td>\n      <td>2</td>\n      <td>19</td>\n      <td>3.0</td>\n      <td>32</td>\n      <td>2</td>\n      <td>1</td>\n      <td>4</td>\n      <td>produce</td>\n      <td>packaged produce</td>\n    </tr>\n    <tr>\n      <th>2019499</th>\n      <td>458285</td>\n      <td>128787</td>\n      <td>42</td>\n      <td>2</td>\n      <td>19</td>\n      <td>3.0</td>\n      <td>32</td>\n      <td>3</td>\n      <td>1</td>\n      <td>4</td>\n      <td>produce</td>\n      <td>packaged produce</td>\n    </tr>\n    <tr>\n      <th>2019500</th>\n      <td>458285</td>\n      <td>128787</td>\n      <td>42</td>\n      <td>2</td>\n      <td>19</td>\n      <td>3.0</td>\n      <td>123</td>\n      <td>4</td>\n      <td>1</td>\n      <td>4</td>\n      <td>produce</td>\n      <td>packaged vegetables fruits</td>\n    </tr>\n  </tbody>\n</table>\n<p>2019501 rows × 12 columns</p>\n</div>"
     },
     "execution_count": 4,
     "metadata": {},
     "output_type": "execute_result"
    }
   ],
   "source": [
    "df = pd.read_csv('./../data/datasets/ECommerce_consumer behaviour.csv')\n",
    "df"
   ],
   "metadata": {
    "collapsed": false,
    "ExecuteTime": {
     "end_time": "2024-02-01T18:47:32.310024600Z",
     "start_time": "2024-02-01T18:47:30.145685500Z"
    }
   }
  },
  {
   "cell_type": "code",
   "execution_count": 5,
   "outputs": [
    {
     "data": {
      "text/plain": "         order_id  user_id  order_number  product_id  \\\n0         2425083    49125             1          17   \n1         2425083    49125             1          91   \n2         2425083    49125             1          36   \n3         2425083    49125             1          83   \n4         2425083    49125             1          83   \n...           ...      ...           ...         ...   \n2019496   3390742   199430            16          83   \n2019497    458285   128787            42         115   \n2019498    458285   128787            42          32   \n2019499    458285   128787            42          32   \n2019500    458285   128787            42         123   \n\n                          product_name  \n0                   baking ingredients  \n1                      soy lactosefree  \n2                               butter  \n3                     fresh vegetables  \n4                     fresh vegetables  \n...                                ...  \n2019496               fresh vegetables  \n2019497  water seltzer sparkling water  \n2019498               packaged produce  \n2019499               packaged produce  \n2019500     packaged vegetables fruits  \n\n[2019501 rows x 5 columns]",
      "text/html": "<div>\n<style scoped>\n    .dataframe tbody tr th:only-of-type {\n        vertical-align: middle;\n    }\n\n    .dataframe tbody tr th {\n        vertical-align: top;\n    }\n\n    .dataframe thead th {\n        text-align: right;\n    }\n</style>\n<table border=\"1\" class=\"dataframe\">\n  <thead>\n    <tr style=\"text-align: right;\">\n      <th></th>\n      <th>order_id</th>\n      <th>user_id</th>\n      <th>order_number</th>\n      <th>product_id</th>\n      <th>product_name</th>\n    </tr>\n  </thead>\n  <tbody>\n    <tr>\n      <th>0</th>\n      <td>2425083</td>\n      <td>49125</td>\n      <td>1</td>\n      <td>17</td>\n      <td>baking ingredients</td>\n    </tr>\n    <tr>\n      <th>1</th>\n      <td>2425083</td>\n      <td>49125</td>\n      <td>1</td>\n      <td>91</td>\n      <td>soy lactosefree</td>\n    </tr>\n    <tr>\n      <th>2</th>\n      <td>2425083</td>\n      <td>49125</td>\n      <td>1</td>\n      <td>36</td>\n      <td>butter</td>\n    </tr>\n    <tr>\n      <th>3</th>\n      <td>2425083</td>\n      <td>49125</td>\n      <td>1</td>\n      <td>83</td>\n      <td>fresh vegetables</td>\n    </tr>\n    <tr>\n      <th>4</th>\n      <td>2425083</td>\n      <td>49125</td>\n      <td>1</td>\n      <td>83</td>\n      <td>fresh vegetables</td>\n    </tr>\n    <tr>\n      <th>...</th>\n      <td>...</td>\n      <td>...</td>\n      <td>...</td>\n      <td>...</td>\n      <td>...</td>\n    </tr>\n    <tr>\n      <th>2019496</th>\n      <td>3390742</td>\n      <td>199430</td>\n      <td>16</td>\n      <td>83</td>\n      <td>fresh vegetables</td>\n    </tr>\n    <tr>\n      <th>2019497</th>\n      <td>458285</td>\n      <td>128787</td>\n      <td>42</td>\n      <td>115</td>\n      <td>water seltzer sparkling water</td>\n    </tr>\n    <tr>\n      <th>2019498</th>\n      <td>458285</td>\n      <td>128787</td>\n      <td>42</td>\n      <td>32</td>\n      <td>packaged produce</td>\n    </tr>\n    <tr>\n      <th>2019499</th>\n      <td>458285</td>\n      <td>128787</td>\n      <td>42</td>\n      <td>32</td>\n      <td>packaged produce</td>\n    </tr>\n    <tr>\n      <th>2019500</th>\n      <td>458285</td>\n      <td>128787</td>\n      <td>42</td>\n      <td>123</td>\n      <td>packaged vegetables fruits</td>\n    </tr>\n  </tbody>\n</table>\n<p>2019501 rows × 5 columns</p>\n</div>"
     },
     "execution_count": 5,
     "metadata": {},
     "output_type": "execute_result"
    }
   ],
   "source": [
    "df = df[['order_id', 'user_id', 'order_number', 'product_id', 'product_name']]\n",
    "df"
   ],
   "metadata": {
    "collapsed": false,
    "ExecuteTime": {
     "end_time": "2024-02-01T18:47:32.356019800Z",
     "start_time": "2024-02-01T18:47:32.312035900Z"
    }
   }
  },
  {
   "cell_type": "code",
   "execution_count": 6,
   "outputs": [
    {
     "data": {
      "text/plain": "array(['baking ingredients', 'soy lactosefree', 'butter',\n       'fresh vegetables', 'yogurt', 'canned meals beans',\n       'poultry counter', 'ice cream ice', 'fresh fruits', 'milk',\n       'packaged cheese', 'bread', 'tea', 'bakery desserts',\n       'frozen breakfast', 'cereal', 'eggs', 'buns rolls', 'cream',\n       'water seltzer sparkling water', 'pickled goods olives',\n       'packaged poultry', 'other creams cheeses',\n       'honeys syrups nectars', 'coffee', 'refrigerated',\n       'energy granola bars', 'soft drinks', 'latino foods',\n       'plates bowls cups flatware', 'paper goods', 'oral hygiene',\n       'diapers wipes', 'food storage', 'nuts seeds dried fruit', 'soap',\n       'packaged vegetables fruits', 'hot dogs bacon sausage',\n       'lunch meat', 'chips pretzels', 'meat counter',\n       'fresh dips tapenades', 'prepared soups salads', 'condiments',\n       'juice nectars', 'canned fruit applesauce',\n       'preserved dips spreads', 'packaged produce',\n       'canned jarred vegetables', 'fresh pasta', 'pasta sauce',\n       'frozen produce', 'frozen appetizers sides', 'soup broth bouillon',\n       'dry pasta', 'prepared meals', 'fresh herbs',\n       'hot cereal pancake mixes', 'spices seasonings',\n       'grains rice dried goods', 'frozen breads doughs', 'missing',\n       'popcorn jerky', 'granola', 'muscles joints pain relief',\n       'energy sports drinks', 'crackers', 'candy chocolate',\n       'fruit vegetable snacks', 'tortillas flat bread',\n       'tofu meat alternatives', 'beers coolers', 'laundry',\n       'asian foods', 'frozen meat seafood', 'frozen meals', 'spreads',\n       'mint gum', 'cold flu allergy', 'breakfast bakery',\n       'trail mix snack mix', 'air fresheners candles', 'feminine care',\n       'breakfast bars pastries', 'instant foods', 'spirits',\n       'salad dressing toppings', 'doughs gelatins bake mixes',\n       'oils vinegars', 'baby food formula', 'eye ear care',\n       'dog food care', 'baby accessories', 'frozen pizza',\n       'marinades meat preparation', 'frozen vegan vegetarian',\n       'shave needs', 'specialty wines champagnes', 'cookies cakes',\n       'cleaning products', 'packaged seafood',\n       'bulk grains rice dried goods', 'frozen dessert', 'skin care',\n       'deodorants', 'white wines', 'protein meal replacements',\n       'canned meat seafood', 'digestion', 'trash bags liners',\n       'refrigerated pudding desserts', 'specialty cheeses',\n       'bulk dried fruits vegetables', 'red wines', 'body lotions soap',\n       'hair care', 'vitamins supplements', 'cocoa drink mixes',\n       'first aid', 'dish detergents', 'packaged meat', 'other',\n       'cat food care', 'indian foods', 'baking supplies decor',\n       'seafood counter', 'ice cream toppings', 'baby bath body care',\n       'more household', 'kosher foods', 'facial care',\n       'kitchen supplies', 'beauty', 'frozen juice'], dtype=object)"
     },
     "execution_count": 6,
     "metadata": {},
     "output_type": "execute_result"
    }
   ],
   "source": [
    "df['product_name'].unique()"
   ],
   "metadata": {
    "collapsed": false,
    "ExecuteTime": {
     "end_time": "2024-02-01T18:47:32.524018900Z",
     "start_time": "2024-02-01T18:47:32.381021500Z"
    }
   }
  },
  {
   "cell_type": "code",
   "execution_count": 7,
   "outputs": [],
   "source": [
    "# return tuple {orderId, list(items)} for single check\n",
    "def get_order_items(order_id):\n",
    "    return (order_id, df[df['order_id'] == order_id]['product_name'].unique().tolist())"
   ],
   "metadata": {
    "collapsed": false,
    "ExecuteTime": {
     "end_time": "2024-02-01T18:47:32.531019700Z",
     "start_time": "2024-02-01T18:47:32.448019200Z"
    }
   }
  },
  {
   "cell_type": "code",
   "execution_count": 8,
   "outputs": [
    {
     "data": {
      "text/plain": "  0%|          | 0/1000 [00:00<?, ?it/s]",
      "application/vnd.jupyter.widget-view+json": {
       "version_major": 2,
       "version_minor": 0,
       "model_id": "043d810ef3a14754a8843f2faf5c7df1"
      }
     },
     "metadata": {},
     "output_type": "display_data"
    }
   ],
   "source": [
    "check_ids = df['order_id'].unique().tolist()\n",
    "check_list = []\n",
    "for check_id in tqdm(check_ids[:1000]):\n",
    "    check_list.append(get_order_items(check_id))"
   ],
   "metadata": {
    "collapsed": false,
    "ExecuteTime": {
     "end_time": "2024-02-01T18:47:35.392756200Z",
     "start_time": "2024-02-01T18:47:32.485021500Z"
    }
   }
  },
  {
   "cell_type": "markdown",
   "source": [
    "# Layout"
   ],
   "metadata": {
    "collapsed": false
   }
  },
  {
   "cell_type": "code",
   "execution_count": 9,
   "outputs": [
    {
     "data": {
      "text/plain": "<ui.python.Layout.Layout at 0x7f2ee9e38490>"
     },
     "execution_count": 9,
     "metadata": {},
     "output_type": "execute_result"
    }
   ],
   "source": [
    "layout_test = Layout('./../data/layout 18x25_6.json').get_empty_rack_layout()\n",
    "layout_test"
   ],
   "metadata": {
    "collapsed": false,
    "ExecuteTime": {
     "end_time": "2024-02-01T18:47:35.407755500Z",
     "start_time": "2024-02-01T18:47:35.392756200Z"
    }
   }
  },
  {
   "cell_type": "code",
   "execution_count": 10,
   "outputs": [],
   "source": [
    "def random_layout():\n",
    "    layout = Layout('./../data/layout 18x25_6.json')\n",
    "    layout.set_item_list(df['product_name'].unique().tolist())\n",
    "    for row in range(layout.shape[0]):\n",
    "        for col in range(layout.shape[1]):\n",
    "            if layout[row][col].type.name == 'RACK':\n",
    "                for lev in range(layout.get_max_rack_level()):\n",
    "                    layout.set_item_to_rack(random.choice(layout.get_item_list()), (row, col), level=lev)\n",
    "    return layout"
   ],
   "metadata": {
    "collapsed": false,
    "ExecuteTime": {
     "end_time": "2024-02-01T18:47:35.455751900Z",
     "start_time": "2024-02-01T18:47:35.415754800Z"
    }
   }
  },
  {
   "cell_type": "code",
   "execution_count": 11,
   "outputs": [],
   "source": [
    "layouts = []\n",
    "for i in range(10):\n",
    "    layouts.append(random_layout())"
   ],
   "metadata": {
    "collapsed": false,
    "ExecuteTime": {
     "end_time": "2024-02-01T18:47:36.312728600Z",
     "start_time": "2024-02-01T18:47:35.423751500Z"
    }
   }
  },
  {
   "cell_type": "code",
   "execution_count": 12,
   "outputs": [],
   "source": [
    "# dir = Path(os.getcwd()).parent\n",
    "# layouts[2].display_in_window(home_dir=str(dir))"
   ],
   "metadata": {
    "collapsed": false,
    "ExecuteTime": {
     "end_time": "2024-02-01T18:47:36.326628200Z",
     "start_time": "2024-02-01T18:47:36.314626100Z"
    }
   }
  },
  {
   "cell_type": "code",
   "execution_count": 13,
   "outputs": [
    {
     "data": {
      "text/plain": "<ui.python.Layout.Layout at 0x7f2ee8d67be0>"
     },
     "execution_count": 13,
     "metadata": {},
     "output_type": "execute_result"
    }
   ],
   "source": [
    "layouts[3]"
   ],
   "metadata": {
    "collapsed": false,
    "ExecuteTime": {
     "end_time": "2024-02-01T18:47:36.328629100Z",
     "start_time": "2024-02-01T18:47:36.319629800Z"
    }
   }
  },
  {
   "cell_type": "markdown",
   "source": [
    "# Evaluate"
   ],
   "metadata": {
    "collapsed": false
   }
  },
  {
   "cell_type": "code",
   "execution_count": 14,
   "outputs": [],
   "source": [
    "from genetic_algorithm_addons import evaluate_layout, thread_func"
   ],
   "metadata": {
    "collapsed": false,
    "ExecuteTime": {
     "end_time": "2024-02-01T18:47:36.383293500Z",
     "start_time": "2024-02-01T18:47:36.327636200Z"
    }
   }
  },
  {
   "cell_type": "code",
   "execution_count": 15,
   "outputs": [
    {
     "name": "stdout",
     "output_type": "stream",
     "text": [
      "(60, False)\n",
      "(72, False)\n",
      "(74, False)\n",
      "(70, False)\n",
      "(78, False)\n",
      "(66, False)\n",
      "(70, False)\n",
      "(0, True)\n",
      "(64, False)\n",
      "(82, False)\n"
     ]
    }
   ],
   "source": [
    "for layout in layouts:\n",
    "    print(evaluate_layout(layout, check_list[0][1], use_item_count=True))"
   ],
   "metadata": {
    "collapsed": false,
    "ExecuteTime": {
     "end_time": "2024-02-01T18:47:36.386295400Z",
     "start_time": "2024-02-01T18:47:36.351629600Z"
    }
   }
  },
  {
   "cell_type": "code",
   "outputs": [],
   "source": [
    "#dirr = Path(os.getcwd()).parent\n",
    "#layouts[2].display_in_window(home_dir=str(dirr))"
   ],
   "metadata": {
    "collapsed": false,
    "ExecuteTime": {
     "end_time": "2024-02-01T18:47:36.403341900Z",
     "start_time": "2024-02-01T18:47:36.357295200Z"
    }
   },
   "execution_count": 16
  },
  {
   "cell_type": "markdown",
   "source": [
    "# Mutate layout"
   ],
   "metadata": {
    "collapsed": false
   }
  },
  {
   "cell_type": "code",
   "outputs": [],
   "source": [
    "def select_n_best_layouts(layouts, checks, n_best=2, start_pos=None, reward_type='max', debug=False, use_item_count=False):\n",
    "    res = dict()\n",
    "    f_res = dict()\n",
    "    \n",
    "    if MAX_WORKERS > 1:\n",
    "        futures = list()\n",
    "        with ProcessPoolExecutor(max_workers=MAX_WORKERS) as executor:\n",
    "            for layout in layouts:\n",
    "                futures.append(executor.submit(thread_func, layout, checks, start_pos, use_item_count))\n",
    "        \n",
    "        #done, not_done = wait(futures, return_when='ALL_COMPLETED')\n",
    "        for future in futures:\n",
    "            # store modified layout as its path count is changed\n",
    "            score, n_layout = future.result()\n",
    "            res[n_layout] = score\n",
    "    else:\n",
    "        for layout in layouts:\n",
    "            score, n_layout = thread_func(layout, checks, start_pos, use_item_count)\n",
    "            res[n_layout] = score\n",
    "    \n",
    "    if reward_type == 'max':\n",
    "        res = sorted(res.items(), key=lambda x: x[1][0], reverse=True)\n",
    "    else:\n",
    "        res = sorted(res.items(), key=lambda x: x[1][1])\n",
    "    if debug:\n",
    "        print([x[1] for x in res[:n_best]])\n",
    "    return [x[0] for x in res[:n_best]]"
   ],
   "metadata": {
    "collapsed": false,
    "ExecuteTime": {
     "end_time": "2024-02-01T18:47:36.405295400Z",
     "start_time": "2024-02-01T18:47:36.362294900Z"
    }
   },
   "execution_count": 17
  },
  {
   "cell_type": "code",
   "execution_count": 18,
   "outputs": [
    {
     "name": "stdout",
     "output_type": "stream",
     "text": [
      "[(98, 0), (90, 0)]\n"
     ]
    }
   ],
   "source": [
    "new_layouts = select_n_best_layouts(layouts, check_list[:1], debug=True)"
   ],
   "metadata": {
    "collapsed": false,
    "ExecuteTime": {
     "end_time": "2024-02-01T18:47:36.595297800Z",
     "start_time": "2024-02-01T18:47:36.368295100Z"
    }
   }
  },
  {
   "cell_type": "code",
   "execution_count": 19,
   "outputs": [
    {
     "data": {
      "text/plain": "[<ui.python.Layout.Layout at 0x7f2ee8a72440>,\n <ui.python.Layout.Layout at 0x7f2ee8a723b0>]"
     },
     "execution_count": 19,
     "metadata": {},
     "output_type": "execute_result"
    }
   ],
   "source": [
    "new_layouts"
   ],
   "metadata": {
    "collapsed": false,
    "ExecuteTime": {
     "end_time": "2024-02-01T18:47:36.597816600Z",
     "start_time": "2024-02-01T18:47:36.591293400Z"
    }
   }
  },
  {
   "cell_type": "code",
   "execution_count": 20,
   "outputs": [],
   "source": [
    "def mutate_layout(original_layout, alpha=0.01):\n",
    "    new_layout = original_layout.copy()\n",
    "    new_layout.reset_path_count()\n",
    "    for row in range(new_layout.shape[0]):\n",
    "        for col in range(new_layout.shape[1]):\n",
    "            if new_layout[row][col].type.name == 'RACK':\n",
    "                for lev in range(new_layout.get_max_rack_level()):\n",
    "                    if random.random() < alpha:\n",
    "                        new_layout.set_item_to_rack(random.choice(new_layout.get_item_list()), (row, col), level=lev)\n",
    "    return new_layout"
   ],
   "metadata": {
    "collapsed": false,
    "ExecuteTime": {
     "end_time": "2024-02-01T18:47:36.616817200Z",
     "start_time": "2024-02-01T18:47:36.599812800Z"
    }
   }
  },
  {
   "cell_type": "code",
   "execution_count": 21,
   "outputs": [],
   "source": [
    "temp = mutate_layout(new_layouts[0], alpha=0.1)"
   ],
   "metadata": {
    "collapsed": false,
    "ExecuteTime": {
     "end_time": "2024-02-01T18:47:36.666815500Z",
     "start_time": "2024-02-01T18:47:36.603817Z"
    }
   }
  },
  {
   "cell_type": "code",
   "execution_count": 22,
   "outputs": [],
   "source": [
    "#dir = Path(os.getcwd()).parent\n",
    "#temp.display_in_window(home_dir=str(dir))"
   ],
   "metadata": {
    "collapsed": false,
    "ExecuteTime": {
     "end_time": "2024-02-01T18:47:36.667815Z",
     "start_time": "2024-02-01T18:47:36.624816800Z"
    }
   }
  },
  {
   "cell_type": "markdown",
   "source": [
    "# Genetic algorithm"
   ],
   "metadata": {
    "collapsed": false
   }
  },
  {
   "cell_type": "code",
   "execution_count": 32,
   "outputs": [],
   "source": [
    "layouts_array = []\n",
    "for i in range(50):\n",
    "    layouts_array.append(random_layout())"
   ],
   "metadata": {
    "collapsed": false,
    "ExecuteTime": {
     "end_time": "2024-02-01T19:40:30.464438300Z",
     "start_time": "2024-02-01T19:40:26.104280300Z"
    }
   }
  },
  {
   "cell_type": "code",
   "execution_count": 33,
   "outputs": [],
   "source": [
    "# evaluate, select, mutate, repeat\n",
    "def genetic_algorithm(layouts_arr, check_arr, n_iter=100, n_best=10, alpha=0.01, start_pos=None, debug=False, reward_type='max', use_item_count=False):\n",
    "    l_size = len(layouts_arr)\n",
    "    for i in trange(n_iter):\n",
    "        if debug:\n",
    "            print(f'Iteration {i}', end=' ')\n",
    "        n_best_arr = select_n_best_layouts(layouts_arr, check_arr, n_best=n_best, start_pos=start_pos, debug=debug, reward_type=reward_type, use_item_count=use_item_count)\n",
    "        layouts_arr = []\n",
    "        for l in n_best_arr:\n",
    "            layouts_arr.append(l.copy().reset_path_count())\n",
    "        for n in range(len(n_best_arr)):\n",
    "            for m in range(l_size//n_best-1):\n",
    "                layouts_arr.append(mutate_layout(n_best_arr[n], alpha=alpha))\n",
    "    print(f'Iteration {n_iter}', end=' ')\n",
    "    return select_n_best_layouts(layouts_arr, check_arr, n_best=n_best, start_pos=start_pos, debug=debug, reward_type=reward_type, use_item_count=use_item_count)"
   ],
   "metadata": {
    "collapsed": false,
    "ExecuteTime": {
     "end_time": "2024-02-01T19:40:31.893426400Z",
     "start_time": "2024-02-01T19:40:31.847427Z"
    }
   }
  },
  {
   "cell_type": "code",
   "execution_count": 34,
   "outputs": [
    {
     "data": {
      "text/plain": "  0%|          | 0/75 [00:00<?, ?it/s]",
      "application/vnd.jupyter.widget-view+json": {
       "version_major": 2,
       "version_minor": 0,
       "model_id": "80c9e518f2f444d482e1526287089d3f"
      }
     },
     "metadata": {},
     "output_type": "display_data"
    },
    {
     "name": "stdout",
     "output_type": "stream",
     "text": [
      "Iteration 0 [(18780, 503), (15767, 530), (15625, 539), (14431, 560), (14414, 561), (14269, 551), (14234, 553), (14135, 560), (13970, 555), (13830, 555)]\n",
      "Iteration 1 [(19341, 493), (18845, 503), (18580, 510), (18420, 511), (18342, 512), (15951, 536), (15937, 532), (15915, 542), (15823, 530), (15668, 539)]\n",
      "Iteration 2 [(19839, 492), (19810, 493), (19641, 486), (19624, 490), (19391, 490), (19222, 493), (18864, 503), (18761, 503), (18753, 506), (18741, 490)]\n",
      "Iteration 3 [(20906, 473), (20359, 485), (20338, 477), (20226, 480), (20166, 484), (20158, 478), (20123, 488), (20094, 480), (19966, 486), (19963, 479)]\n",
      "Iteration 4 [(20851, 468), (20733, 473), (20662, 475), (20555, 481), (20544, 474), (20524, 478), (20511, 476), (20502, 474), (20423, 477), (20286, 483)]\n",
      "Iteration 5 [(21602, 467), (21360, 464), (21336, 464), (21231, 463), (21171, 473), (21169, 467), (21121, 462), (20928, 473), (20847, 473), (20777, 475)]\n",
      "Iteration 6 [(22203, 453), (22183, 460), (21857, 459), (21842, 460), (21680, 462), (21626, 462), (21619, 465), (21391, 467), (21325, 463), (21279, 465)]\n",
      "Iteration 7 [(23842, 434), (22685, 447), (22336, 458), (22277, 453), (22227, 458), (22159, 460), (22135, 455), (22121, 460), (22109, 454), (22077, 456)]\n",
      "Iteration 8 [(23726, 434), (23668, 436), (23042, 444), (22831, 447), (22703, 445), (22608, 448), (22562, 442), (22510, 449), (22441, 458), (22439, 455)]\n",
      "Iteration 9 [(24125, 425), (23860, 434), (23832, 436), (23670, 430), (23599, 437), (23596, 436), (23304, 435), (23189, 441), (23058, 444), (23007, 439)]\n",
      "Iteration 10 [(24272, 426), (24085, 425), (24074, 425), (24020, 428), (23879, 430), (23830, 434), (23785, 434), (23764, 436), (23739, 436), (23693, 430)]\n",
      "Iteration 11 [(24823, 415), (24421, 426), (24239, 423), (24229, 425), (24193, 425), (24156, 421), (24103, 426), (24094, 428), (24075, 426), (24040, 427)]\n",
      "Iteration 12 [(25224, 409), (24843, 422), (24734, 415), (24666, 416), (24507, 426), (24288, 421), (24260, 426), (24248, 421), (24222, 426), (24213, 428)]\n",
      "Iteration 13 [(25251, 409), (25233, 416), (24863, 413), (24824, 415), (24778, 414), (24761, 419), (24704, 415), (24696, 418), (24653, 422), (24633, 416)]\n",
      "Iteration 14 [(25848, 409), (25449, 418), (25382, 411), (25301, 409), (25221, 416), (25145, 417), (24902, 411), (24894, 412), (24873, 411), (24866, 413)]\n",
      "Iteration 15 [(25461, 409), (25443, 418), (25430, 414), (25416, 410), (25410, 411), (25374, 416), (25297, 404), (25287, 416), (25155, 413), (25106, 418)]\n",
      "Iteration 16 [(26248, 399), (25889, 407), (25739, 410), (25733, 409), (25647, 410), (25582, 405), (25437, 418), (25436, 410), (25401, 411), (25354, 412)]\n",
      "Iteration 17 [(26509, 398), (26491, 399), (26074, 399), (26018, 406), (25966, 399), (25915, 407), (25841, 405), (25723, 403), (25676, 409), (25616, 410)]\n",
      "Iteration 18 [(26540, 398), (26479, 393), (26374, 398), (26331, 399), (26149, 400), (26089, 399), (26082, 406), (25975, 406), (25964, 405), (25917, 399)]\n",
      "Iteration 19 [(27527, 384), (26663, 396), (26615, 399), (26567, 393), (26537, 396), (26512, 398), (26511, 398), (26511, 392), (26358, 400), (26332, 393)]\n",
      "Iteration 20 [(27642, 384), (27190, 392), (26796, 393), (26741, 393), (26719, 396), (26705, 393), (26701, 398), (26690, 392), (26606, 393), (26603, 399)]\n",
      "Iteration 21 [(27594, 384), (27314, 387), (27239, 387), (27041, 392), (27004, 390), (26941, 392), (26934, 392), (26898, 392), (26756, 391), (26743, 393)]\n",
      "Iteration 22 [(28023, 381), (27836, 381), (27536, 384), (27495, 387), (27436, 386), (27407, 383), (27249, 385), (27192, 390), (27143, 386), (27112, 387)]\n",
      "Iteration 23 [(28568, 373), (28312, 375), (27944, 381), (27662, 386), (27586, 381), (27571, 385), (27539, 384), (27464, 383), (27450, 385), (27329, 381)]\n",
      "Iteration 24 [(29344, 366), (28830, 371), (28738, 373), (28353, 375), (28186, 374), (28104, 375), (28042, 381), (27902, 381), (27841, 385), (27729, 382)]\n",
      "Iteration 25 [(29090, 365), (29022, 366), (28787, 371), (28706, 371), (28667, 371), (28523, 373), (28475, 375), (28190, 374), (28184, 375), (28150, 375)]\n",
      "Iteration 26 [(29252, 371), (29195, 365), (29041, 366), (29035, 366), (28863, 371), (28606, 372), (28599, 373), (28541, 371), (28428, 377), (28414, 371)]\n",
      "Iteration 27 [(29378, 362), (29329, 366), (29272, 364), (29081, 365), (28989, 366), (28987, 374), (28970, 371), (28920, 371), (28818, 373), (28642, 371)]\n",
      "Iteration 28 [(29246, 362), (29242, 362), (29202, 371), (29129, 366), (29101, 366), (29080, 365), (29073, 364), (28916, 365), (28887, 373), (28812, 366)]\n",
      "Iteration 29 [(30507, 339), (30203, 353), (29329, 362), (29253, 373), (29218, 362), (29171, 365), (29147, 373), (29121, 364), (29111, 366), (29109, 365)]\n",
      "Iteration 30 [(30813, 339), (30102, 351), (29895, 353), (29543, 358), (29384, 358), (29286, 362), (29246, 364), (29164, 366), (29112, 362), (29096, 367)]\n",
      "Iteration 31 [(30545, 339), (30121, 351), (30004, 343), (29908, 353), (29408, 355), (29401, 358), (29354, 355), (29306, 359), (29236, 362), (29194, 358)]\n",
      "Iteration 32 [(30683, 337), (30654, 339), (30243, 349), (30224, 351), (30201, 349), (30153, 344), (30103, 343), (29948, 351), (29886, 353), (29833, 353)]\n",
      "Iteration 33 [(31063, 339), (30700, 341), (30645, 339), (30602, 337), (30474, 335), (30331, 337), (30298, 351), (30225, 344), (30177, 349), (30158, 344)]\n",
      "Iteration 34 [(30949, 335), (30865, 337), (30779, 339), (30776, 335), (30764, 339), (30702, 338), (30669, 342), (30616, 335), (30601, 339), (30585, 341)]\n",
      "Iteration 35 [(31255, 328), (31127, 339), (31103, 336), (31037, 335), (31024, 333), (30994, 339), (30979, 344), (30822, 343), (30715, 335), (30693, 339)]\n",
      "Iteration 36 [(31493, 328), (31428, 329), (31188, 329), (31140, 332), (31105, 328), (31069, 339), (31063, 338), (31013, 334), (30951, 336), (30950, 340)]\n",
      "Iteration 37 [(31890, 322), (31371, 329), (31366, 328), (31308, 338), (31271, 331), (31191, 340), (31172, 329), (31115, 335), (30997, 332), (30995, 334)]\n",
      "Iteration 38 [(32106, 318), (31934, 323), (31842, 323), (31653, 322), (31393, 331), (31369, 329), (31326, 331), (31310, 324), (31254, 335), (31190, 327)]\n",
      "Iteration 39 [(32009, 323), (31936, 317), (31861, 318), (31858, 323), (31785, 320), (31601, 322), (31536, 328), (31502, 324), (31445, 331), (31405, 333)]\n",
      "Iteration 40 [(32677, 307), (32376, 311), (32093, 320), (32036, 323), (32028, 318), (31960, 318), (31942, 317), (31829, 322), (31816, 328), (31759, 323)]\n",
      "Iteration 41 [(33130, 309), (32784, 307), (32572, 311), (32412, 311), (32184, 318), (32135, 310), (32115, 315), (32091, 323), (31997, 318), (31991, 320)]\n",
      "Iteration 42 [(33001, 303), (32914, 309), (32708, 307), (32611, 311), (32532, 310), (32404, 317), (32364, 318), (32337, 309), (32287, 316), (32280, 311)]\n",
      "Iteration 43 [(33047, 303), (32875, 309), (32841, 309), (32810, 307), (32715, 308), (32694, 307), (32584, 307), (32537, 299), (32484, 314), (32421, 309)]\n",
      "Iteration 44 [(34185, 291), (33102, 289), (33027, 309), (32923, 303), (32882, 308), (32815, 309), (32711, 299), (32677, 307), (32615, 302), (32539, 309)]\n",
      "Iteration 45 [(34114, 291), (33881, 294), (33344, 289), (33267, 293), (33219, 298), (33168, 306), (32947, 303), (32912, 304), (32701, 309), (32684, 308)]\n",
      "Iteration 46 [(34278, 292), (34128, 291), (33993, 294), (33940, 294), (33467, 293), (33444, 299), (33368, 289), (33347, 298), (33263, 304), (33199, 294)]\n",
      "Iteration 47 [(34361, 293), (34265, 291), (34115, 292), (34109, 294), (33970, 294), (33853, 293), (33716, 296), (33538, 299), (33489, 282), (33434, 307)]\n",
      "Iteration 48 [(35053, 279), (34681, 286), (34324, 291), (34192, 293), (34047, 293), (34016, 294), (33960, 292), (33917, 294), (33917, 289), (33910, 292)]\n",
      "Iteration 49 [(35184, 279), (34777, 281), (34585, 286), (34360, 293), (34319, 294), (34215, 287), (34194, 297), (34185, 291), (34049, 293), (34048, 292)]\n",
      "Iteration 50 [(35267, 278), (34991, 279), (34794, 280), (34710, 278), (34621, 281), (34458, 288), (34447, 286), (34408, 287), (34236, 291), (34219, 290)]\n",
      "Iteration 51 [(35987, 270), (35517, 278), (35321, 279), (35016, 278), (34827, 281), (34794, 285), (34785, 282), (34726, 285), (34682, 280), (34621, 278)]\n",
      "Iteration 52 [(35857, 270), (35450, 278), (35376, 278), (35023, 279), (35006, 282), (35002, 281), (34974, 282), (34869, 281), (34859, 278), (34829, 284)]\n",
      "Iteration 53 [(35503, 270), (35421, 275), (35410, 278), (35370, 278), (35304, 275), (35258, 278), (35208, 279), (35187, 278), (35096, 282), (35068, 278)]\n",
      "Iteration 54 [(36247, 266), (35972, 270), (35806, 278), (35598, 266), (35500, 275), (35457, 275), (35349, 274), (35288, 278), (35254, 279), (35231, 278)]\n",
      "Iteration 55 [(36079, 266), (35903, 270), (35661, 275), (35652, 266), (35550, 278), (35513, 274), (35501, 271), (35488, 272), (35464, 274), (35342, 275)]\n",
      "Iteration 56 [(36403, 266), (35879, 266), (35779, 266), (35771, 270), (35682, 274), (35541, 267), (35470, 271), (35415, 274), (35340, 278), (35293, 272)]\n",
      "Iteration 57 [(35948, 266), (35848, 274), (35844, 270), (35779, 272), (35765, 266), (35761, 266), (35718, 268), (35668, 267), (35637, 263), (35512, 278)]\n",
      "Iteration 58 [(36226, 266), (36032, 266), (35968, 266), (35947, 266), (35932, 266), (35769, 270), (35723, 268), (35692, 274), (35690, 272), (35599, 263)]\n",
      "Iteration 59 [(36311, 266), (35967, 270), (35902, 266), (35888, 266), (35817, 266), (35775, 274), (35699, 268), (35633, 266), (35575, 269), (35555, 274)]\n",
      "Iteration 60 [(36340, 263), (36024, 266), (35988, 268), (35968, 266), (35925, 274), (35906, 265), (35899, 266), (35711, 270), (35709, 266), (35679, 269)]\n",
      "Iteration 61 [(36546, 260), (36275, 261), (36142, 263), (36127, 266), (35979, 266), (35937, 268), (35872, 266), (35802, 270), (35789, 268), (35753, 266)]\n",
      "Iteration 62 [(36608, 260), (36596, 257), (36581, 264), (36272, 263), (36246, 266), (36190, 261), (36136, 265), (36087, 261), (35940, 266), (35918, 266)]\n",
      "Iteration 63 [(36610, 260), (36591, 257), (36393, 264), (36262, 261), (36247, 266), (36052, 263), (36016, 261), (35972, 265), (35868, 266), (35830, 266)]\n",
      "Iteration 64 [(37798, 246), (36897, 254), (36709, 250), (36607, 261), (36566, 250), (36541, 257), (36529, 260), (36383, 266), (36288, 264), (36210, 263)]\n",
      "Iteration 65 [(37801, 246), (37466, 241), (36901, 261), (36857, 250), (36828, 250), (36658, 254), (36488, 260), (36475, 257), (36397, 266), (36348, 263)]\n",
      "Iteration 66 [(37774, 241), (37751, 246), (37374, 241), (37320, 242), (37108, 247), (36922, 254), (36758, 256), (36753, 251), (36705, 260), (36627, 257)]\n",
      "Iteration 67 [(37914, 246), (37903, 241), (37390, 241), (37323, 242), (37265, 247), (36818, 254), (36800, 256), (36758, 257), (36623, 257), (36527, 251)]\n",
      "Iteration 68 [(37983, 237), (37980, 238), (37886, 249), (37848, 246), (37768, 241), (37527, 243), (37464, 241), (37329, 242), (37226, 247), (37061, 249)]\n",
      "Iteration 69 [(37859, 238), (37848, 237), (37767, 236), (37759, 249), (37678, 241), (37567, 243), (37546, 241), (37427, 241), (37407, 242), (37328, 246)]\n",
      "Iteration 70 [(38231, 236), (38168, 234), (38144, 237), (38006, 241), (37990, 240), (37985, 238), (37745, 246), (37723, 238), (37544, 241), (37513, 249)]\n",
      "Iteration 71 [(38184, 242), (38156, 237), (38094, 236), (37988, 240), (37848, 244), (37823, 238), (37822, 234), (37790, 249), (37787, 238), (37757, 246)]\n",
      "Iteration 72 [(38797, 229), (38511, 243), (38271, 236), (38271, 232), (38178, 242), (38109, 234), (38094, 237), (38065, 244), (37945, 240), (37893, 238)]\n",
      "Iteration 73 [(38714, 229), (38453, 243), (38346, 240), (38206, 238), (38187, 242), (38135, 243), (38066, 236), (38065, 234), (38063, 232), (38040, 240)]\n",
      "Iteration 74 [(38773, 229), (38579, 237), (38299, 236), (38280, 240), (38196, 243), (38158, 231), (38133, 243), (38113, 232), (38111, 234), (38090, 235)]\n",
      "Iteration 75 [(38751, 229), (38743, 231), (38414, 232), (38410, 234), (38393, 240), (38349, 237), (38328, 232), (38227, 231), (38177, 236), (38151, 243)]\n"
     ]
    }
   ],
   "source": [
    "best_layouts = genetic_algorithm(layouts_array, check_list[:800], n_iter=75, n_best=10, alpha=0.03, debug=True, reward_type='max', use_item_count=True)"
   ],
   "metadata": {
    "collapsed": false,
    "ExecuteTime": {
     "end_time": "2024-02-01T19:55:28.542941700Z",
     "start_time": "2024-02-01T19:40:37.340382100Z"
    }
   }
  },
  {
   "cell_type": "code",
   "execution_count": 35,
   "outputs": [],
   "source": [
    "curr_dir = Path(os.getcwd()).parent\n",
    "best_layouts[0].display_in_window(home_dir=str(curr_dir), debug=False)"
   ],
   "metadata": {
    "collapsed": false,
    "ExecuteTime": {
     "end_time": "2024-02-01T19:57:48.902086900Z",
     "start_time": "2024-02-01T19:57:09.626181700Z"
    }
   }
  },
  {
   "cell_type": "code",
   "execution_count": 24,
   "outputs": [],
   "source": [
    "for i in range(len(best_layouts)):\n",
    "    best_layouts.save_to_json(f'./../data/layouts/best_layout_{i}.json')"
   ],
   "metadata": {
    "collapsed": false,
    "ExecuteTime": {
     "end_time": "2024-01-29T20:18:01.584661Z",
     "start_time": "2024-01-29T20:18:01.536536100Z"
    }
   }
  }
 ],
 "metadata": {
  "kernelspec": {
   "display_name": "Python 3",
   "language": "python",
   "name": "python3"
  },
  "language_info": {
   "codemirror_mode": {
    "name": "ipython",
    "version": 2
   },
   "file_extension": ".py",
   "mimetype": "text/x-python",
   "name": "python",
   "nbconvert_exporter": "python",
   "pygments_lexer": "ipython2",
   "version": "2.7.6"
  }
 },
 "nbformat": 4,
 "nbformat_minor": 0
}
